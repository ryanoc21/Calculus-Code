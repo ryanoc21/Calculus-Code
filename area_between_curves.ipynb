{
 "cells": [
  {
   "cell_type": "code",
   "execution_count": 12,
   "id": "e12866f7",
   "metadata": {},
   "outputs": [],
   "source": [
    "import sympy as sym \n",
    "import numpy as np \n",
    "import matplotlib.pyplot as plt \n",
    "from matplotlib.patches import Polygon\n",
    "from IPython.display import display, Math"
   ]
  },
  {
   "cell_type": "code",
   "execution_count": 19,
   "id": "8888d5e2",
   "metadata": {},
   "outputs": [
    {
     "data": {
      "image/png": "[encoded data removed]",
      "text/plain": [
       "<Figure size 432x288 with 1 Axes>"
      ]
     },
     "metadata": {
      "needs_background": "light"
     },
     "output_type": "display_data"
    }
   ],
   "source": [
    "x = sym.symbols('x')\n",
    "\n",
    "symf = x**2 \n",
    "symg = x \n",
    "\n",
    "f = sym.lambdify(x,symf) \n",
    "g = sym.lambdify(x,symg)\n",
    "xx = np.linspace(-2,2,55) \n",
    "\n",
    "#add patch \n",
    "xpatch = np.linspace(0,1,100)\n",
    "ypatch = np.vstack((g(xpatch),f(xpatch))).T\n",
    "\n",
    "fig,ax = plt.subplots()\n",
    "ax.add_patch(Polygon(ypatch,facecolor = 'm'))\n",
    "\n",
    "#plot \n",
    "plt.plot(xx,f(xx))\n",
    "plt.plot(xx,g(xx),'r-')\n",
    "\n",
    "\n",
    "plt.legend(['$f(x) = %s $'%sym.latex(symf),'$g(x) = %s $'%sym.latex(symg)])\n",
    "plt.axis([-.25,1.25,-.5,1.5])\n",
    "plt.show()"
   ]
  },
  {
   "cell_type": "markdown",
   "id": "3776e969",
   "metadata": {},
   "source": [
    "# Computing the area between two functions \n",
    "\n",
    ">The area between two functions is given by the formula $\\quad A = \\int_{a}^{b} f(x) - g(x)dx$\n",
    "\n",
    ">In our example, $f(x) = x^2$ and $g(x) = x $\n",
    "\n",
    ">Therefore, $A = \\int_{a}^{b}(x^2 -x)dx $\n",
    "\n",
    ">We will compute the area between the two crossing points, that is where the two functions are equal. This is given by the two solutions to the equation: \n",
    "$$ x^2 = x $$\n",
    "\n",
    ">The two solutions are $x = 0$ and $x = 1$. This gives us the definite integral of \n",
    "$$A = \\int_{0}^{1}(x^2 - x) dx$$\n",
    "\n",
    ">The final answer will be given in the code below"
   ]
  },
  {
   "cell_type": "code",
   "execution_count": 20,
   "id": "bbb7dccd",
   "metadata": {},
   "outputs": [
    {
     "data": {
      "text/latex": [
       "$\\displaystyle f(x)\\text{ and }g(x) \\text{ intersect at } x=0,1$"
      ],
      "text/plain": [
       "<IPython.core.display.Math object>"
      ]
     },
     "metadata": {},
     "output_type": "display_data"
    },
    {
     "data": {
      "text/latex": [
       "$\\displaystyle \\text{The area between the functions is } A = -1/6$"
      ],
      "text/plain": [
       "<IPython.core.display.Math object>"
      ]
     },
     "metadata": {},
     "output_type": "display_data"
    }
   ],
   "source": [
    "# find intersection points\n",
    "fg_intersect = sym.solve(symf-symg)\n",
    "display(Math('f(x)\\\\text{ and }g(x) \\\\text{ intersect at } x=%s,%s' %(fg_intersect[0],fg_intersect[1])))\n",
    "\n",
    "# compute area and print results!\n",
    "A = sym.integrate(symf-symg,(x,fg_intersect[0],fg_intersect[1]))\n",
    "display(Math('\\\\text{The area between the functions is } A = %s' %A))"
   ]
  }
 ],
 "metadata": {
  "kernelspec": {
   "display_name": "Python 3",
   "language": "python",
   "name": "python3"
  },
  "language_info": {
   "codemirror_mode": {
    "name": "ipython",
    "version": 3
   },
   "file_extension": ".py",
   "mimetype": "text/x-python",
   "name": "python",
   "nbconvert_exporter": "python",
   "pygments_lexer": "ipython3",
   "version": "3.8.8"
  }
 },
 "nbformat": 4,
 "nbformat_minor": 5
}
