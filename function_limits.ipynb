{
 "cells": [
  {
   "cell_type": "code",
   "execution_count": 2,
   "id": "652e51b0",
   "metadata": {},
   "outputs": [],
   "source": [
    "import sympy as sym \n",
    "import matplotlib.pyplot as plt \n",
    "import numpy as np \n",
    "from IPython.display import display, Math"
   ]
  },
  {
   "cell_type": "code",
   "execution_count": 2,
   "id": "3df274c0",
   "metadata": {},
   "outputs": [
    {
     "data": {
      "text/latex": [
       "$\\displaystyle \\lim_{x\\to 1.5} x^{3} = 3.375$"
      ],
      "text/plain": [
       "<IPython.core.display.Math object>"
      ]
     },
     "metadata": {},
     "output_type": "display_data"
    }
   ],
   "source": [
    "x  = sym.symbols('x')\n",
    "\n",
    "fx = x**3 \n",
    "\n",
    "lim_point = 1.5 #a in the formula, where the direction is going \n",
    "\n",
    "lim = sym.limit(fx,x,lim_point)\n",
    "\n",
    "display(Math('\\\\lim_{x\\\\to %g} %s = %g'%(lim_point,sym.latex(fx),lim)))"
   ]
  },
  {
   "cell_type": "code",
   "execution_count": 3,
   "id": "c1f52e5d",
   "metadata": {},
   "outputs": [
    {
     "data": {
      "image/png": "[encoded data removed]",
      "text/plain": [
       "<Figure size 432x288 with 1 Axes>"
      ]
     },
     "metadata": {
      "needs_background": "light"
     },
     "output_type": "display_data"
    }
   ],
   "source": [
    "#Plotting the Function in the above cell\n",
    "\n",
    "#Operationalising the sympy function to allow it to be run \n",
    "fxx = sym.lambdify(x,fx) #Allows you to add whatever value for x \n",
    "\n",
    "#Setting x limits \n",
    "xx = np.linspace(-5,5,200) \n",
    "\n",
    "#Plotting\n",
    "plt.plot(xx,fxx(xx),label = '$x^3$')\n",
    "plt.plot(lim_point,lim,'ro')\n",
    "plt.legend()\n",
    "plt.show()\n"
   ]
  },
  {
   "cell_type": "code",
   "execution_count": 4,
   "id": "9984f6b5",
   "metadata": {},
   "outputs": [
    {
     "data": {
      "text/plain": [
       "'x'"
      ]
     },
     "execution_count": 4,
     "metadata": {},
     "output_type": "execute_result"
    }
   ],
   "source": [
    "x = sym.symbols('x')\n",
    "\n",
    "fx = (x**2)/(x-2)\n",
    "fxx = sym.lambdify(x,fx)\n",
    "xx = np.linspace(1,3,102)\n",
    "#plt.plot(xx,fxx(xx))\n",
    "\n",
    "lim_pnt = 2\n",
    "lim = sym.limit(x,fx,lim_pnt,dir = '+')\n",
    "lim\n",
    "#plt.show()"
   ]
  },
  {
   "cell_type": "code",
   "execution_count": 5,
   "id": "2b21e019",
   "metadata": {},
   "outputs": [
    {
     "name": "stderr",
     "output_type": "stream",
     "text": [
      "<lambdifygenerated-3>:2: RuntimeWarning: invalid value encountered in sqrt\n",
      "  return (sqrt(x + 1)*exp(-x))\n"
     ]
    },
    {
     "data": {
      "image/png": "[encoded data removed]",
      "text/plain": [
       "<Figure size 432x288 with 1 Axes>"
      ]
     },
     "metadata": {
      "needs_background": "light"
     },
     "output_type": "display_data"
    }
   ],
   "source": [
    "#Exercise \n",
    "x = sym.symbols('x')\n",
    "\n",
    "fx = sym.sqrt(x+1)*sym.exp(-x)\n",
    "gx = sym.cos(x+sym.sin(x))\n",
    "\n",
    "fxx = sym.lambdify(x,fx)\n",
    "gxx = sym.lambdify(x,gx)\n",
    "xx = np.linspace(-5,5,100)\n",
    "\n",
    "plt.plot(xx,fxx(xx),label = '$ f(x) $')\n",
    "plt.plot(xx,gxx(xx),label = '$ g(x) $')\n",
    "\n",
    "\n",
    "\n",
    "plt.legend()\n",
    "plt.show()\n"
   ]
  },
  {
   "cell_type": "code",
   "execution_count": 29,
   "id": "f2a319d9",
   "metadata": {},
   "outputs": [
    {
     "name": "stdout",
     "output_type": "stream",
     "text": [
      "Output 1: Testing Using a Boolean\n",
      "True\n",
      "\n",
      "Output 2: Visual Example with Latex\n"
     ]
    },
    {
     "data": {
      "text/latex": [
       "$\\displaystyle \\frac{\\lim{x \\to 5}\\quad f(x)}{\\lim{x \\to 5}\\quad g(x)}\\quad= \\quad\\lim{x \\to 5}\\frac{f(x)}{g(x)}$"
      ],
      "text/plain": [
       "<IPython.core.display.Math object>"
      ]
     },
     "metadata": {},
     "output_type": "display_data"
    }
   ],
   "source": [
    "#Exercise Part 2. \n",
    "#Show that lim(fx)/lim(gx) is the same as lim(fx/gx)\n",
    "lim_pnt = 5 \n",
    "flim = sym.limit(fx,x,lim_pnt)\n",
    "glim = sym.limit(gx,x,lim_pnt)\n",
    "\n",
    "fglim = flim/glim \n",
    "\n",
    "#Output 1: Testing Using a Boolean \n",
    "print('Output 1: Testing Using a Boolean')\n",
    "print(fglim == sym.limit(fglim,x,lim_pnt))\n",
    "\n",
    "print('')\n",
    "\n",
    "#Output 2: Making it look nice using Latex \n",
    "print('Output 2: Visual Example with Latex')\n",
    "#display(Math('\\\\lim_{x\\\\to %g} %s = %g'%(lim_point,sym.latex(fx),lim)))\n",
    "display(Math('\\\\frac{\\\\lim{x \\\\to %g}\\\\quad f(x)}{\\\\lim{x \\\\to %g}\\\\quad g(x)}\\\\quad'\\\n",
    "              '= \\\\quad\\\\lim{x \\\\to %g}\\\\frac{f(x)}{g(x)}'%(lim_pnt,lim_pnt,lim_pnt)))"
   ]
  },
  {
   "cell_type": "code",
   "execution_count": 15,
   "id": "9ffbc4d4",
   "metadata": {},
   "outputs": [
    {
     "data": {
      "image/png": "[encoded data removed]",
      "text/plain": [
       "<Figure size 432x288 with 1 Axes>"
      ]
     },
     "metadata": {
      "needs_background": "light"
     },
     "output_type": "display_data"
    }
   ],
   "source": [
    "x = np.linspace(-np.pi*5,np.pi*5,100)\n",
    "fx = np.cos(x)\n",
    "gx = np.sin(x) \n",
    "zx = np.tan(x)\n",
    "\n",
    "plt.plot(x,fx,label = 'cos')\n",
    "\n",
    "plt.plot(x,gx, label = 'sin')\n",
    "\n",
    "plt.plot(x,zx, label = 'tan')\n",
    "\n",
    "plt.legend()\n",
    "plt.show()"
   ]
  },
  {
   "cell_type": "code",
   "execution_count": null,
   "id": "cf7c1fd6",
   "metadata": {},
   "outputs": [],
   "source": []
  }
 ],
 "metadata": {
  "kernelspec": {
   "display_name": "Python 3",
   "language": "python",
   "name": "python3"
  },
  "language_info": {
   "codemirror_mode": {
    "name": "ipython",
    "version": 3
   },
   "file_extension": ".py",
   "mimetype": "text/x-python",
   "name": "python",
   "nbconvert_exporter": "python",
   "pygments_lexer": "ipython3",
   "version": "3.8.8"
  }
 },
 "nbformat": 4,
 "nbformat_minor": 5
}
